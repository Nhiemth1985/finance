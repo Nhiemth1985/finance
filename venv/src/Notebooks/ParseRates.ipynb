{
 "nbformat": 4,
 "nbformat_minor": 2,
 "metadata": {
  "language_info": {
   "name": "python",
   "codemirror_mode": {
    "name": "ipython",
    "version": 3
   }
  },
  "orig_nbformat": 2,
  "file_extension": ".py",
  "mimetype": "text/x-python",
  "name": "python",
  "npconvert_exporter": "python",
  "pygments_lexer": "ipython3",
  "version": 3
 },
 "cells": [
  {
   "cell_type": "code",
   "execution_count": null,
   "metadata": {},
   "outputs": [],
   "source": [
    "import requests, os, bs4\n",
    "from bs4 import BeautifulSoup\n",
    "\n",
    "os.makedirs('rates', exist_ok=True)\n",
    "\n",
    "rate_url = 'https://www.treasury.gov/resource-center/data-chart-center/interest-rates/Pages/TextView.aspx?data=yield&year=2020'\n",
    "\n",
    "res = requests.get(rate_url)\n",
    "res.raise_for_status()\n",
    "\n",
    "soup = bs4.BeautifulSoup(res.text, 'html.parser')\n",
    "soup"
   ]
  },
  {
   "cell_type": "code",
   "execution_count": 8,
   "metadata": {},
   "outputs": [
    {
     "name": "stdout",
     "output_type": "stream",
     "text": "That didn't work\n"
    }
   ],
   "source": [
    "tableElem = soup.select('#t-chart')\n",
    "if tableElem == []:\n",
    "    print('That didn\\'t work')\n",
    "else:\n",
    "    tableUrl = 'https:' + tableElem[0].get('src')"
   ]
  },
  {
   "cell_type": "code",
   "execution_count": null,
   "metadata": {},
   "outputs": [],
   "source": [
    "xkcd_url = 'https://xkcd.com'\n",
    "while not xkcd_url.endswith('#'):\n",
    "    print('Downloading Page %s...' %xkcd_url)\n",
    "    res = requests.get(xkcd_url)\n",
    "    res.raise_for_status()\n",
    "xkdc_soup = bs4.BeautifulSoup(res.text, 'html.parser')\n",
    "print('Done.')"
   ]
  }
 ]
}