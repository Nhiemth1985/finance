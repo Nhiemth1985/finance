{
 "nbformat": 4,
 "nbformat_minor": 2,
 "metadata": {
  "language_info": {
   "name": "python",
   "codemirror_mode": {
    "name": "ipython",
    "version": 3
   },
   "version": "3.6.9-final"
  },
  "orig_nbformat": 2,
  "file_extension": ".py",
  "mimetype": "text/x-python",
  "name": "python",
  "npconvert_exporter": "python",
  "pygments_lexer": "ipython3",
  "version": 3,
  "kernelspec": {
   "name": "python36964bit2c14dea494554b2480cd6f641a89b174",
   "display_name": "Python 3.6.9 64-bit"
  }
 },
 "cells": [
  {
   "cell_type": "code",
   "execution_count": 12,
   "metadata": {},
   "outputs": [],
   "source": [
    "import json\n",
    "import requests\n",
    "import pandas as pd\n",
    "import pprint"
   ]
  },
  {
   "cell_type": "code",
   "execution_count": 24,
   "metadata": {},
   "outputs": [],
   "source": [
    "# tkr = stock ticker\n",
    "tkr = 'msft'\n",
    "\n",
    "# urls as strings with tkr appended\n",
    "growth = 'https://financialmodelingprep.com/api/v3/financial-statement-growth/' + tkr\n",
    "profile = 'https://financialmodelingprep.com/api/v3/company/profile/' + tkr\n",
    "ratios = 'https://financialmodelingprep.com/api/v3/financial-ratios/' + tkr\n",
    "discounted_cf = 'https://financialmodelingprep.com/api/v3/company/discounted-cash-flow/' + tkr\n",
    "stock_list = 'https://financialmodelingprep.com/api/v3/company/stock/list/' + tkr\n",
    "income_statement = 'https://financialmodelingprep.com/api/v3/financials/income-statement/' + tkr\n",
    "balance_sheet = 'https://financialmodelingprep.com/api/v3/financials/balance-sheet-statement/' + tkr\n",
    "cash_flow = 'https://financialmodelingprep.com/api/v3/financials/cash-flow-statement/' + tkr\n",
    "time_series = 'https://financialmodelingprep.com/api/v3/historical-price-full/' + tkr"
   ]
  },
  {
   "cell_type": "markdown",
   "metadata": {},
   "source": [
    "# Company Profile"
   ]
  },
  {
   "cell_type": "code",
   "execution_count": 39,
   "metadata": {},
   "outputs": [
    {
     "output_type": "stream",
     "name": "stdout",
     "text": "beta                                                          1.231028\nceo                                                      Satya Nadella\nchanges                                                          -6.41\nchangesPercentage                                             (-4.11%)\ncompanyName                                      Microsoft Corporation\ndescription          Microsoft Corp is a technology company. It dev...\nexchange                                          Nasdaq Global Select\nimage                https://financialmodelingprep.com/images-New-j...\nindustry                                          Application Software\nlastDiv                                                           1.84\nmktCap                                                   1.13862561E12\nprice                                                            149.7\nrange                                                      118.1-190.7\nsector                                                      Technology\nvolAvg                                                        47615782\nwebsite                                       http://www.microsoft.com\nName: profile, dtype: object\n"
    }
   ],
   "source": [
    "profile_df = pd.read_json(profile)\n",
    "pprint.pprint(profile_df[\"profile\"])"
   ]
  },
  {
   "cell_type": "markdown",
   "metadata": {},
   "source": [
    "# Cash Flow Statement"
   ]
  },
  {
   "cell_type": "code",
   "execution_count": 19,
   "metadata": {},
   "outputs": [
    {
     "output_type": "stream",
     "name": "stdout",
     "text": "{'Acquisitions and disposals': '-2388000000.0',\n 'Capital Expenditure': '13925000000.0',\n 'Depreciation & Amortization': '11682000000.0',\n 'Dividend payments': '-13811000000.0',\n 'Effect of forex changes on cash': '-115000000.0',\n 'Financing Cash Flow': '-36887000000.0',\n 'Free Cash Flow': '38260000000.0',\n 'Investing Cash flow': '-15888000000.0',\n 'Investment purchases and sales': '500000000.0',\n 'Issuance (buybacks) of shares': '-18401000000.0',\n 'Issuance (repayment) of debt': '-4000000000.0',\n 'Net Cash/Marketcap': '0.0',\n 'Net cash flow / Change in cash': '-590000000.0',\n 'Operating Cash Flow': '52185000000.0',\n 'Stock-based compensation': '4652000000.0',\n 'date': '2019-06-30'}\n"
    }
   ],
   "source": [
    "cf_df = pd.read_json(cash_flow)\n",
    "pprint.pprint(cf_df[\"financials\"][0])"
   ]
  },
  {
   "cell_type": "markdown",
   "metadata": {},
   "source": [
    "# Income Statement"
   ]
  },
  {
   "cell_type": "code",
   "execution_count": 18,
   "metadata": {},
   "outputs": [
    {
     "output_type": "stream",
     "name": "stdout",
     "text": "{'Consolidated Income': '39240000000.0',\n 'Cost of Revenue': '42910000000.0',\n 'Dividend per Share': '1.78137495163',\n 'EBIT': '42959000000.0',\n 'EBIT Margin': '0.341369802055',\n 'EBITDA': '54641000000.0',\n 'EBITDA Margin': '0.43419975684',\n 'EPS': '5.11',\n 'EPS Diluted': '5.06',\n 'Earnings Before Tax Margin': '0.125545322346',\n 'Earnings before Tax': '15799000000.0',\n 'Free Cash Flow margin': '0.285053598532',\n 'Gross Margin': '0.659019572006',\n 'Gross Profit': '82933000000.0',\n 'Income Tax Expense': '4448000000.0',\n 'Interest Expense': '2686000000.0',\n 'Net Income': '39240000000.0',\n 'Net Income - Discontinued ops': '0.0',\n 'Net Income - Non-Controlling int': '0.0',\n 'Net Income Com': '39240000000.0',\n 'Net Profit Margin': '0.311817105441',\n 'Operating Expenses': '39974000000.0',\n 'Operating Income': '42959000000.0',\n 'Preferred Dividends': '0.0',\n 'Profit Margin': '0.311817105441',\n 'R&D Expenses': '16876000000.0',\n 'Revenue': '1.25843e+11',\n 'Revenue Growth': '0.0',\n 'SG&A Expense': '23098000000.0',\n 'Weighted Average Shs Out': '7673000000.0',\n 'Weighted Average Shs Out (Dil)': '7753000000.0',\n 'date': '2019-06-30'}\n"
    }
   ],
   "source": [
    "is_df = pd.read_json(income_statement)\n",
    "pprint.pprint(is_df[\"financials\"][0])"
   ]
  },
  {
   "cell_type": "markdown",
   "metadata": {},
   "source": [
    "# Balance Sheet"
   ]
  },
  {
   "cell_type": "code",
   "execution_count": 23,
   "metadata": {},
   "outputs": [
    {
     "output_type": "stream",
     "name": "stdout",
     "text": "{'Cash and cash equivalents': '11356000000.0',\n 'Cash and short-term investments': '1.41008e+11',\n 'Deferred revenue': '32676000000.0',\n 'Deposit Liabilities': '0.0',\n 'Goodwill and Intangible Assets': '49776000000.0',\n 'Inventories': '2063000000.0',\n 'Investments': '1.30852e+11',\n 'Long-term debt': '66662000000.0',\n 'Long-term investments': '1200000000.0',\n 'Net Debt': '60822000000.0',\n 'Other Assets': '0.0',\n 'Other Liabilities': '35800000000.0',\n 'Other comprehensive income': '70877000000',\n 'Payables': '9382000000.0',\n 'Property, Plant & Equipment Net': '36477000000.0',\n 'Receivables': '29524000000.0',\n 'Retained earnings (deficit)': '24150000000.0',\n 'Short-term debt': '5516000000.0',\n 'Short-term investments': '1.29652e+11',\n 'Tax Liabilities': '5665000000.0',\n 'Tax assets': '12479000000.0',\n 'Total assets': '2.86556e+11',\n 'Total current assets': '1.75552e+11',\n 'Total current liabilities': '69420000000.0',\n 'Total debt': '72178000000.0',\n 'Total liabilities': '1.84226e+11',\n 'Total non-current assets': '1.11004e+11',\n 'Total non-current liabilities': '79006000000.0',\n 'Total shareholders equity': '1.0233e+11',\n 'date': '2019-06-30'}\n"
    }
   ],
   "source": [
    "bs_df = pd.read_json(balance_sheet)\n",
    "pprint.pprint(bs_df[\"financials\"][0])"
   ]
  },
  {
   "cell_type": "markdown",
   "metadata": {},
   "source": [
    "# Time Series"
   ]
  },
  {
   "cell_type": "code",
   "execution_count": 37,
   "metadata": {},
   "outputs": [
    {
     "output_type": "stream",
     "name": "stdout",
     "text": "0       {'date': '2015-03-30', 'open': 41.1, 'high': 4...\n1       {'date': '2015-03-31', 'open': 40.78, 'high': ...\n2       {'date': '2015-04-01', 'open': 40.6, 'high': 4...\n3       {'date': '2015-04-02', 'open': 40.66, 'high': ...\n4       {'date': '2015-04-06', 'open': 40.34, 'high': ...\n                              ...                        \n1254    {'date': '2020-03-23', 'open': 137.01, 'high':...\n1255    {'date': '2020-03-24', 'open': 143.75, 'high':...\n1256    {'date': '2020-03-25', 'open': 148.91, 'high':...\n1257    {'date': '2020-03-26', 'open': 148.4, 'high': ...\n1258    {'date': '2020-03-27', 'open': 151.75, 'high':...\nName: historical, Length: 1259, dtype: object\n"
    }
   ],
   "source": [
    "ts_df = pd.read_json(time_series)\n",
    "pprint.pprint(ts_df[\"historical\"])"
   ]
  }
 ]
}