{
 "nbformat": 4,
 "nbformat_minor": 2,
 "metadata": {
  "language_info": {
   "name": "python",
   "codemirror_mode": {
    "name": "ipython",
    "version": 3
   },
   "version": "3.6.9-final"
  },
  "orig_nbformat": 2,
  "file_extension": ".py",
  "mimetype": "text/x-python",
  "name": "python",
  "npconvert_exporter": "python",
  "pygments_lexer": "ipython3",
  "version": 3,
  "kernelspec": {
   "name": "0d8fa5b8-5a47-4fa3-a163-2fcb58d13889",
   "display_name": "'Python Interactive'"
  }
 },
 "cells": [
  {
   "cell_type": "code",
   "execution_count": null,
   "metadata": {},
   "outputs": [],
   "source": [
    "import requests, os, bs4\n",
    "from bs4 import BeautifulSoup\n",
    "\n",
    "os.makedirs('rates', exist_ok=True)\n",
    "\n",
    "rate_url = 'https://www.treasury.gov/resource-center/data-chart-center/interest-rates/Pages/TextView.aspx?data=yield&year=2020'\n",
    "\n",
    "res = requests.get(rate_url)\n",
    "res.raise_for_status()\n",
    "\n",
    "soup = bs4.BeautifulSoup(res.text, 'html.parser')\n",
    "soup"
   ]
  },
  {
   "cell_type": "code",
   "execution_count": 8,
   "metadata": {},
   "outputs": [
    {
     "name": "stdout",
     "output_type": "stream",
     "text": "That didn't work\n"
    }
   ],
   "source": [
    "tableElem = soup.select('#t-chart')\n",
    "if tableElem == []:\n",
    "    print('That didn\\'t work')\n",
    "else:\n",
    "    tableUrl = 'https:' + tableElem[0].get('src')"
   ]
  },
  {
   "cell_type": "code",
   "execution_count": null,
   "metadata": {},
   "outputs": [],
   "source": [
    "xkcd_url = 'https://xkcd.com'\n",
    "while not xkcd_url.endswith('#'):\n",
    "    print('Downloading Page %s...' %xkcd_url)\n",
    "    res = requests.get(xkcd_url)\n",
    "    res.raise_for_status()\n",
    "xkdc_soup = bs4.BeautifulSoup(res.text, 'html.parser')\n",
    "print('Done.')"
   ]
  },
  {
   "cell_type": "code",
   "execution_count": 8,
   "metadata": {},
   "outputs": [
    {
     "name": "stdout",
     "output_type": "stream",
     "text": "alpha beta gamma delta epsilon zeta eta theta iota kappa lambda mu nu xi omicron pi rho sigma tau upsilon phi chi psi omega\n"
    }
   ],
   "source": [
    "greekURL = 'https://www.greeksymbols.net/'\n",
    "alphabet = ['alpha', 'beta', 'gamma', 'delta', 'epsilon', 'zeta', 'eta', 'theta', 'iota', 'kappa', 'lambda', 'mu', 'nu', 'xi', 'omicron', 'pi', 'rho', 'sigma', 'tau', 'upsilon', 'phi', 'chi', 'psi', 'omega']\n",
    "dashSymbol = '-symbol'\n",
    "\n",
    "alphabet_as_string = ' '.join(map(str, alphabet))\n",
    "print(alphabet_as_string)"
   ]
  },
  {
   "cell_type": "code",
   "execution_count": 1,
   "metadata": {},
   "outputs": [
    {
     "data": {
      "text/plain": " with tech stocks among the hardest hit. The reason for the declines is clear: The global response to the coronavir…',\n   'url': 'http://techcrunch.com/2020/02/24/coronavirus-fears-hit-markets-bringing-us-shares-down-as-tech-and-saas-slip/',\n   'urlToImage': 'https://techcrunch.com/wp-content/uploads/2019/11/GettyImages-1187891590.jpg?w=600',\n   'publishedAt': '2020-02-24T15:32:28Z',\n   'content': 'Fears over the potential impact of the coronavirus spreading in Europe, Asia, and the Middle East have sent stocks plummeting in Monday’s open — with tech stocks among the hardest hit.\\r\\nThe reason for the declines is clear: The global response to the coronavi… [+2825 chars]'},\n  {'source': {'id': 'mashable', 'name': 'Mashable'},\n   'author': 'Haidee Chu',\n   'title': 'Amazon stocks up on Chinese products as coronavirus disrupts supplies',\n   'description': \"As the coronavirus outbreak in China continues to plague local manufacturing businesses, the world's largest online marketplace is taking precautions. Amazon placed off-cycle orders with some of its suppliers last week to increase inventory of Chinese-made pr…\",\n   'url': 'https://mashable.com/article/amazon-china-coronavirus-supply-products/',\n   'urlToImage': 'https://mondrian.mashable.com/2020%252F02%252F11%252F7b%252F47b91476895d468eae05f8fb0b74233d.b3eda.jpg%252F1200x630.jpg?signature=9QUQucleWKuqwWmLiKxlN_TZ12A=',\n   'publishedAt': '2020-02-11T18:10:06Z',\n   'content': \"As the coronavirus outbreak in China continuesto plaguelocal manufacturing businesses, the world's largest online marketplace is taking precautions.\\r\\nAmazon placed off-cycle orders with some of its suppliers last week to increase inventory of Chinese-made pro… [+1334 chars]\"},\n  {'source': {'id': 'techcrunch', 'name': 'TechCrunch'},\n   'author': 'Josh Constine',\n   'title': 'As Morgan Stanley buys ETrade, Robinhood preps social trading',\n   'description': 'Before it was worth $7.6 billion, the original idea for Robinhood was a stock trading social network. At my kitchen table in San Francisco in 2013, the founders envisioned an app for sharing hot tips to a feed complete with a leaderboard of whose predictions …',\n   'url': 'http://techcrunch.com/2020/02/20/robinhood-profiles-morgan-stanley-etrade/',\n   'urlToImage': 'https://techcrunch.com/wp-content/uploads/2020/02/Robinhood-Profiles.png?w=764',\n   'publishedAt': '2020-02-20T16:04:15Z',\n   'content': 'Before it was worth $7.6 billion, the original idea for Robinhood was a stock trading social network. At my kitchen table in San Francisco in 2013, the founders envisioned an app for sharing hot tips to a feed complete with a leaderboard of whose predictions … [+3033 chars]'},\n  {'source': {'id': None, 'name': 'Thestreet.com'},\n   'author': 'Stephen Guilfoyle',\n   'title': \"Coronavirus Spreads, Reducing 'Big Oil', 4 Stocks to Watch, Adding Store Capital - TheStreet\",\n   'description': \"Coronavirus Spreads, Reducing 'Big Oil', 4 Stocks to Watch, Adding Store Capital TheStreet Stock market news live: S&P 500, Dow, Nasdaq close at record highs as coronavirus fears ease Yahoo Finance Stocks cut losses, Nasdaq turns positive CNBC Stocks open low…\",\n   'url': 'https://realmoney.thestreet.com/investing/coronavirus-spreads-reducing-big-oil-4-stocks-to-watch-adding-store-capital-15238312',\n   'urlToImage': 'http://s.thestreet.com/files/tsc/v2008/photos/contrib/uploads/5a522a38-136c-11e8-b8cf-074c479e2d81.png',\n   'publishedAt': '2020-02-13T13:19:11Z',\n   'content': 'Wednesday morning melted into Wednesday afternoon. The feeling started to settle in. Remember January 2018? Remember that feeling? A whisper that maybe recent gains in equity prices had been won, but certainly not earned. A spider sense? Would not go that far… [+7494 chars]'},\n  {'source': {'id': None, 'name': 'Bnnbloomberg.ca'},\n   'author': 'Bloomberg News',\n   'title': 'Stocks in China plunge as markets reopen; US stocks rebound - BNNBloomberg.ca',\n   'description': 'The S&P 500 Index rebounded as China added stimulus in an effort to shore up its economy and American manufacturing data topped estimates.',\n   'url': 'http://www.bnnbloomberg.ca/asia-stocks-set-to-drop-as-china-traders-return-markets-wrap-1.1383721',\n   'urlToImage': 'https://www.bnnbloomberg.ca/polopoly_fs/1.1384032!/fileimage/httpImage/image.jpg_gen/derivatives/landscape_620/a-medical-worker-sprays-antiseptic-outside-of-the-front-gate-of-shanghai-stock-exchange-building.jpg',\n   'publishedAt': '2020-02-03T11:19:34Z',\n   'content': 'U.S. stocks rebounded from the worst week in six months as investors assessed whether measures to contain the coronavirus will prevent it from slamming the global economic recovery. Crude extended losses.\\r\\nThe S&amp;P 500 Index rebounded as China added stimul… [+2954 chars]'},\n  {'source': {'id': None, 'name': 'Investing.com'},\n   'author': None,\n   'title': 'Stocks - S&P Posts First Loss in Three Weeks Amid Rout in Chip Stocks - Investing.com',\n   'description': 'Stocks - S&P Posts First Loss in Three Weeks Amid Rout in Chip Stocks Investing.com Dow drops more than 200 points, posts losing week as coronavirus fears resurface CNBC Stocks sink, Treasury prices soar as investors seek safety Yahoo Canada Finance Wall Stre…',\n   'url': 'https://www.investing.com/news/stock-market-news/stocks--sp-posts-first-loss-in-three-weeks-amid-rout-in-chip-stocks-2091342',\n   'urlToImage': 'https://i-invdn-com.akamaized.net/news/LYNXMPEA6G0NG_L.jpg',\n   'publishedAt': '2020-02-21T21:36:00Z',\n   'content': 'By Yasin Ebrahim \\r\\nInvesting.com – The S&amp;P closed above the lows of day on Friday, but was unable to prevent its first weekly loss in three weeks as investors fretted over the coronavirus’ impact on global growth.\\r\\nThe S&amp;P 500 fell 1.05%, Nasdaq Compo… [+1807 chars]'},\n  {'source': {'id': 'reuters', 'name': 'Reuters'},\n   'author': 'Stanley White',\n   'title': 'Stocks inch higher as new coronavirus cases fall',\n   'description': 'Asian shares and Wall Street futures nudged higher on Wednesday amid hopes the worst of the coronavirus in China may have passed, although prevailing uncertainty about the outbreak has kept investors wary.',\n   'url': 'https://www.reuters.com/article/us-global-markets-idUSKBN20602O',\n   'urlToImage': 'https://s2.reutersmedia.net/resources/r/?m=02&d=20200212&t=2&i=1489034613&w=1200&r=LYNXMPEG1B01B',\n   'publishedAt': '2020-02-12T00:55:48Z',\n   'content': \"TOKYO (Reuters) - Asian shares and Wall Street futures nudged higher on Wednesday amid hopes the worst of the coronavirus in China may have passed, although prevailing uncertainty about the outbreak has kept investors wary. \\r\\nMSCI's broadest index of Asia-Pac… [+3460 chars]\"},\n  {'source': {'id': 'reuters', 'name': 'Reuters'},\n   'author': 'Tom Westbrook',\n   'title': 'Slowing virus, China stimulus hopes support stocks, yen nurses losses',\n   'description': 'Asian stocks edged up on Thursday, supported by a fall in coronavirus cases and expectations of more Chinese stimulus to offset the economic impact of the epidemic, while the Japanese yen nursed heavy losses after suffering its steepest drop in six months.',\n   'url': 'https://www.reuters.com/article/us-global-markets-idUSKBN20E03J',\n   'urlToImage': 'https://s2.reutersmedia.net/resources/r/?m=02&d=20200220&t=2&i=1492621796&w=1200&r=LYNXMPEG1J023',\n   'publishedAt': '2020-02-20T01:13:03Z',\n   'content': 'SINGAPORE (Reuters) - Asian stocks edged up on Thursday, supported by a fall in coronavirus cases and expectations of more Chinese stimulus to offset the economic impact of the epidemic, while the Japanese yen nursed heavy losses after suffering its steepest … [+2463 chars]'},\n  {'source': {'id': 'reuters', 'name': 'Reuters'},\n   'author': 'Reuters Editorial',\n   'title': 'Taiwan advises against all China travel, releases mask stocks',\n   'description': 'Taiwan raised its travel warning for China on Tuesday saying that people should avoid going unless absolutely necessary amid an outbreak of the new coronavirus there, and said it had begun to release stocks of face masks but would limit purchases.',\n   'url': 'https://www.reuters.com/article/us-china-health-taiwan-travel-idUSKBN1ZR14J',\n   'urlToImage': 'https://s4.reutersmedia.net/resources_v2/images/rcom-default.png',\n   'publishedAt': '2020-01-28T10:59:34Z',\n   'content': 'TAIPEI (Reuters) - Taiwan raised its travel warning for China on Tuesday saying that people should avoid going unless absolutely necessary amid an outbreak of the new coronavirus there, and said it had begun to release stocks of face masks but would limit pur… [+1590 chars]'},\n  {'source': {'id': 'reuters', 'name': 'Reuters'},\n   'author': 'Reuters Editorial',\n   'title': 'Buffett defends investments in stocks, which fueled record Berkshire profit',\n   'description': \"Warren Buffett on Saturday defended Berkshire Hathaway Inc's decision to invest heavily in the stocks of companies such as Apple Inc, as the conglomerate struggled to find whole businesses to buy.\",\n   'url': 'https://www.reuters.com/article/us-berkshire-results-idUSKCN20G0JE',\n   'urlToImage': 'https://s3.reutersmedia.net/resources/r/?m=02&d=20200222&t=2&i=1493749049&w=1200&r=LYNXNPEG1L0DN',\n   'publishedAt': '2020-02-22T13:47:53Z',\n   'content': '(Reuters) - Warren Buffett on Saturday defended Berkshire Hathaway Inc’s decision to invest heavily in the stocks of companies such as Apple Inc, as the conglomerate struggled to find whole businesses to buy. \\r\\nBuffett made his assessment in his annual letter… [+727 chars]'},\n  {'source': {'id': None, 'name': 'Castanet.net'},\n   'author': None,\n   'title': 'Global markets fall sharply as virus cases spread past Asia - Business News - Castanet.net',\n   'description': 'Global markets fall sharply as virus cases spread past Asia - Business News Castanet.net Dow Crashes 800 Points After China Makes Shocking Coronavirus Confession CCN.com Dow plunges 940 points, stocks head for worst day since October 2018 CNBC These Industria…',\n   'url': 'https://www.castanet.net/news/Business/277784/Global-markets-fall-sharply-as-virus-cases-spread-past-Asia',\n   'urlToImage': 'https://www.castanet.net/content/2020/2/NYRD101-224_2020_124636_p3440291.jpg',\n   'publishedAt': '2020-02-24T15:12:00Z',\n   'content': 'U.S. stocks fell sharply in early trading Monday, following a broad sell-off in overseas markets, as a surge in virus cases and a worrisome spread of the disease outside the epicenter in China sent investors running for safety.\\r\\nThe Dow Jones Industrial Avera… [+1875 chars]'},\n  {'source': {'id': None, 'name': 'Timescolonist.com'},\n   'author': 'Hina Alam',\n   'title': 'Pregnant Canadian woman stuck in Wuhan, China, coronavirus epicentre - Times Colonist',\n   'description': \"Pregnant Canadian woman stuck in Wuhan, China, coronavirus epicentre Times Colonist As Virus Spreads, Anger Floods Chinese Social Media The New York Times These US stocks have the most exposure to China's consumer market getting hit by coronavirus fears CNBC …\",\n   'url': 'https://www.timescolonist.com/pregnant-canadian-woman-stuck-in-wuhan-china-coronavirus-epicentre-1.24061927',\n   'urlToImage': 'https://images.glaciermedia.ca/polopoly_fs/1.24061936.1580145875!/fileImage/httpImage/image.jpg_gen/derivatives/facebookogimage_560_292/cpt10142058-jpg.jpg',\n   'publishedAt': '2020-01-27T09:58:00Z',\n   'content': \"A teacher who is living with his pregnant wife and child in a city that is at the epicentre of China's coronavirus outbreak is hoping to get his family out safely.\\r\\n Tom Williams is a British expat who has been living and working for about five years in Wuhan… [+3282 chars]\"},\n  {'source': {'id': None, 'name': 'Investors.com'},\n   'author': \"Investor's Business Daily\",\n   'title': \"Dow Jones Today Propped By Apple, Dow, Boeing; Chips Stocks Mixed, The Fed's Coronavirus Question - Investor's Business Daily\",\n   'description': \"Dow Jones Today Propped By Apple, Dow, Boeing; Chips Stocks Mixed, The Fed's Coronavirus Question Investor's Business Daily Stock market live Tuesday: Dow rebounds, Apple leads the way, coronavirus fears remain CNBC Stocks close higher after posting their wor…\",\n   'url': 'https://www.investors.com/market-trend/stock-market-today/dow-jones-today-rises-on-apple-dow-boeing-chips-take-a-hit-fed-prepares-to-vote/',\n   'urlToImage': 'https://www.investors.com/wp-content/uploads/2016/07/stock-nyse-4-iStock.jpg',\n   'publishedAt': '2020-01-29T14:55:00Z',\n   'content': \"Stocks posted a strong open, but quickly reversed and turned mixed Wednesday, as the market struggled to build on Tuesday's solid rebound. Earnings from chemicals maker Dow (DOW), Boeing (BA) and Apple (AAPL) propelled the Dow Jones today.\\xa0L Brands (LB) and G… [+7977 chars]\"},\n  {'source': {'id': None, 'name': 'Foxbusiness.com'},\n   'author': 'Jonathan Garber',\n   'title': 'Stocks bounce back, try to fight off coronavirus - Fox Business',\n   'description': 'Stocks bounce back, try to fight off coronavirus Fox Business View full coverage on Google News',\n   'url': 'https://www.foxbusiness.com/markets/us-stocks-jan-28-2020',\n   'urlToImage': 'https://a57.foxnews.com/static.foxbusiness.com/foxbusiness.com/content/uploads/2019/11/0/0/new-york-stock-exchange-AP-001.jpg?ve=1&tl=1',\n   'publishedAt': '2020-01-28T14:21:58Z',\n   'content': 'U.S. equity markets opened higher on Tuesday, rebounding from a major selloff in the previous session,\\xa0as investors looked past the continued spreading of the coronavirus outbreak in China.\\r\\nThe Dow Jones Industrial Average was higher by 100\\xa0points, or 0.4\\xa0pe… [+4047 chars]'},\n  {'source': {'id': 'business-insider', 'name': 'Business Insider'},\n   'author': 'Theron Mohamed',\n   'title': 'Global stocks tank as investors brace for a coronavirus pandemic',\n   'description': 'Growing fears of Wuhan coronavirus escalating into a global pandemic hammered stocks on Monday. The flu-like illness has caused deaths in Iran, Italy, and South Korea in recent days. In total it has infected more than 77,000 people, killed about 2,400, and sp…',\n   'url': 'https://markets.businessinsider.com/news/stocks/global-stocks-dive-fears-grow-wuhan-coronavirus-pandemic-2020-2-1028930656',\n   'urlToImage': 'https://images.markets.businessinsider.com/image/5dc05e292f364a7e90413a7c-2000/stressed-trader.jpeg',\n   'publishedAt': '2020-02-24T09:58:06Z',\n   'content': 'Reuters\\r\\n<ul><li>Growing fears of Wuhan coronavirus escalating into a global pandemic hammered stocks on Monday.</li><li>The flu-like illness has caused deaths in Iran, Italy, and South Korea in recent days.</li><li>In total it has infected more than 77,000 p… [+1670 chars]'},\n  {'source': {'id': None, 'name': 'Bnnbloomberg.ca'},\n   'author': 'Bloomberg News',\n   'title': 'Stocks tumble around the world on coronavirus jitters - BNNBloomberg.ca',\n   'description': 'The yen rose and Australian dollar fell in early trading Monday as investors reacted to the spread of the deadly coronavirus over the weekend. Asian stocks looked set for losses.',\n   'url': 'http://www.bnnbloomberg.ca/yen-rises-stock-futures-decline-as-virus-spreads-markets-wrap-1.1380027',\n   'urlToImage': 'https://www.bnnbloomberg.ca/polopoly_fs/1.1380308!/fileimage/httpImage/image.jpg_gen/derivatives/landscape_620/people-walk-by-an-electronic-stock-board-of-a-securities-firm-in-tokyo-monday-jan-27-2020.jpg',\n   'publishedAt': '2020-01-27T14:38:52Z',\n   'content': 'Stocks slumped and bonds rallied as intensifying concern over the impact of the\\xa0deadly coronavirus\\xa0rattled global markets.\\r\\nThe Dow Jones Industrial Average erased its advance for the year, the S&amp;P 500 Index slid the most in almost four months, with tech … [+4572 chars]'},\n  {'source': {'id': None, 'name': 'Yahoo.com'},\n   'author': None,\n   'title': 'Stock market news live: Wall Street dives on coronavirus panic, stocks have worst day in 2 years - Yahoo Canada Finance',\n   'description': 'Stock market news live: Wall Street dives on coronavirus panic, stocks have worst day in 2 years Yahoo Canada Finance Dow plunges more than 800 points as pandemic fears rise Kitco NEWS Wall Street opens deep in red on coronavirus fears, Nasdaq is down 3% FXSt…',\n   'url': 'https://ca.finance.yahoo.com/news/stock-market-news-live-updates-february-24-2020-123446614.html',\n   'urlToImage': 'https://s.yimg.com/ny/api/res/1.2/.CmXqqCo9bZTzU0JOBKYlw--~A/YXBwaWQ9aGlnaGxhbmRlcjt3PTU3NjA7aD0zODQwO3NtPTE7aWw9cGxhbmU-/https://media-mbst-pub-ue1.s3.amazonaws.com/creatr-images/2020-02/aa97b000-5486-11ea-bde3-0e9d587f4d52.cf.jpg',\n   'publishedAt': '2020-02-24T21:41:00Z',\n   'content': 'World markets got slammed on Monday, with investors unnerved by rising coronavirus concerns. An unexpected surge in confirmed infections within Italy and South Korea which now has the largest cluster of cases outside of China raised the possibility that the m… [+10552 chars]'},\n  {'source': {'id': None, 'name': 'Investing.com'},\n   'author': None,\n   'title': 'Stocks - Wall Street Hits Record Highs on Signs Coronavirus Spread Slowing - Investing.com',\n   'description': 'Stocks - Wall Street Hits Record Highs on Signs Coronavirus Spread Slowing Investing.com S&P 500 rises to an all-time high as tech shares lead, Dow gains 150 points CNBC Dow Jones Today, Stocks Rise On Coronavirus News; Tesla Leads Nasdaq, Nike Shuffles Manag…',\n   'url': 'https://www.investing.com/news/stock-market-news/stocks--wall-street-hits-record-highs-on-signs-coronavirus-spread-slowing-2088729',\n   'urlToImage': 'https://i-invdn-com.akamaized.net/news/LYNXMPECBL0ZG_L.jpg',\n   'publishedAt': '2020-02-19T18:22:00Z',\n   'content': 'By Yasin Ebrahim \\r\\nInvesting.com – The S&amp;P and Nasdaq rallied to record highs on Wednesday as reports of a slight decline in Covid-19 cases and hopes for additional stimulus from China prompted investors to resume their bullish bets on stocks.\\r\\nThe S&amp;… [+2244 chars]'},\n  {'source': {'id': None, 'name': 'Bnnbloomberg.ca'},\n   'author': 'Bloomberg News',\n   'title': 'Stock market bloodbath kept at bay in Canada with gold rally - BNNBloomberg.ca',\n   'description': 'U.S. equities tumbled alongside stocks in Europe and Asia as authorities struggled to keep the coronavirus from spreading more widely outside China. Havens including Treasuries and gold surged.',\n   'url': 'http://www.bnnbloomberg.ca/tsx-u-s-markets-in-the-red-amid-worries-about-covid-19-spread-1.1394790',\n   'urlToImage': 'https://www.bnnbloomberg.ca/polopoly_fs/1.1380852!/fileimage/httpImage/image.jpg_gen/derivatives/landscape_620/nyse.jpg',\n   'publishedAt': '2020-02-24T18:47:00Z',\n   'content': 'U.S. equities tumbled alongside stocks in Europe and Asia as authorities struggled to keep the coronavirus from spreading more widely outside China. Havens including Treasuries and gold surged.\\r\\nIn a dramatic day across markets, these were some of the standou… [+5654 chars]'},\n  {'source': {'id': 'business-insider', 'name': 'Business Insider'},\n   'author': 'Akin Oyedele',\n   'title': \"'This bubble will likely collapse': JPMorgan sounds the alarm on a hugely popular trade that's twice as overstretched as it was before the dot-com crash\",\n   'description': 'The valuation gap between value and low-volatility stocks has grown twice as large as it was during the height of the dot-com boom. This trend has created an unsustainable \"equity factor bubble\" that is likely to burst, according to Marko Kolanovic, JPMorgan\\'…',\n   'url': 'https://www.businessinsider.com/next-stock-market-crash-tech-value-factor-bubble-collapse-kolanovic-2020-2',\n   'urlToImage': 'https://i.insider.com/5d67dbf02e22af01e84eb026?width=1200&format=jpeg',\n   'publishedAt': '2020-02-23T11:05:00Z',\n   'content': \"It is still a tough time to be an investor whose preoccupation is finding cheap stocks.\\r\\nValue investors, as they're called, caught a break last year when their factor returned to favor amid an underperformance streak that had largely been in place since 2007… [+2728 chars]\"}]}"
     },
     "execution_count": 1,
     "metadata": {},
     "output_type": "execute_result"
    }
   ],
   "source": [
    "import requests\n",
    "r_news = requests.get('http://newsapi.org/v2/everything?q=stocks&apiKey=298c404f48bf409caefedfc539dbfa42').json()\n",
    "r_news"
   ]
  },
  {
   "cell_type": "code",
   "execution_count": 3,
   "metadata": {},
   "outputs": [
    {
     "name": "stdout",
     "output_type": "stream",
     "text": "environ({'USER': 'prp1277', 'VSCODE_WSL_EXT_LOCATION': '/mnt/c/Users/prp12.000/.vscode/extensions/ms-vscode-remote.remote-wsl-0.42.3', 'SHLVL': '2', 'HOME': '/home/prp1277', 'WSL_DISTRO_NAME': 'Ubuntu', 'LOGNAME': 'prp1277', 'NAME': 'PatricksThinkPad', '_': '/home/prp1277/.vscode-server/bin/c47d83b293181d9be64f27ff093689e8e7aed054/node', 'TERM': 'xterm-color', 'PATH': '/home/prp1277/.vscode-server/bin/c47d83b293181d9be64f27ff093689e8e7aed054/bin:/home/prp1277/.local/bin:/usr/local/sbin:/usr/local/bin:/usr/sbin:/usr/bin:/sbin:/bin:/usr/games:/usr/local/games:/mnt/c/Program Files/Microsoft MPI/Bin/:/mnt/c/Python37/Scripts/:/mnt/c/Python37/:/mnt/c/WINDOWS/system32:/mnt/c/WINDOWS:/mnt/c/WINDOWS/System32/Wbem:/mnt/c/WINDOWS/System32/WindowsPowerShell/v1.0/:/mnt/c/Program Files/dotnet/:/mnt/c/WINDOWS/System32/OpenSSH/:/mnt/c/ProgramData/chocolatey/bin:/mnt/c/Program Files (x86)/Yarn/bin/:/mnt/c/Program Files/Microsoft SQL Server/Client SDK/ODBC/130/Tools/Binn/:/mnt/c/Program Files/Git/cmd:/mnt/c/Program Files/Microsoft SQL Server/Client SDK/ODBC/170/Tools/Binn/:/mnt/c/Program Files (x86)/Microsoft SQL Server/150/Tools/Binn/:/mnt/c/Program Files/Microsoft SQL Server/150/Tools/Binn/:/mnt/c/Program Files/Microsoft SQL Server/150/DTS/Binn/:/mnt/c/Program Files (x86)/Intel/Intel(R) Management Engine Components/DAL:/mnt/c/Program Files/Intel/Intel(R) Management Engine Components/DAL:/mnt/c/Program Files/Intel/WiFi/bin/:/mnt/c/Program Files/Common Files/Intel/WirelessCommon/:/mnt/c/Program Files/nodejs/:/mnt/c/Program Files/PowerShell/6/:/mnt/c/Program Files/Docker/Docker/resources/bin:/mnt/c/ProgramData/DockerDesktop/version-bin:/mnt/c/Users/prp12.000/AppData/Local/Programs/Python/Python37-32/Scripts/:/mnt/c/Users/prp12.000/AppData/Local/Programs/Python/Python37-32/:/mnt/c/Program Files/MySQL/MySQL Shell 8.0/bin/:/mnt/c/Users/prp12.000/AppData/Local/Programs/Microsoft VS Code/bin:/mnt/c/Users/prp12.000/AppData/Roaming/Python36/Scripts:/mnt/c/Users/prp12.000/AppData/Local/Microsoft/WindowsApps:/mnt/c/Users/prp12.000/AppData/Roaming/npm:/mnt/c/Users/prp12.000/.dotnet/tools:/mnt/c/Program Files/heroku/bin:/mnt/c/Users/prp12.000/AppData/Local/Microsoft/WindowsApps:/snap/bin', 'VSCODE_AGENT_FOLDER': '/home/prp1277/.vscode-server', 'LANG': 'C.UTF-8', 'SHELL': '/bin/bash', 'PWD': '/mnt/c/Users/prp12.000/.vscode/extensions/ms-vscode-remote.remote-wsl-0.42.3', 'HOSTTYPE': 'x86_64', 'WSLENV': 'VSCODE_WSL_EXT_LOCATION/up', 'VSCODE_INJECT_NODE_MODULE_LOOKUP_PATH': '/home/prp1277/.vscode-server/bin/c47d83b293181d9be64f27ff093689e8e7aed054/remote/node_modules', 'VSCODE_LOGS': '/home/prp1277/.vscode-server/data/logs/20200226T164115', 'LS_COLORS': 'rs=0:di=01;34:ln=01;36:mh=00:pi=40;33:so=01;35:do=01;35:bd=40;33;01:cd=40;33;01:or=40;31;01:mi=00:su=37;41:sg=30;43:ca=30;41:tw=30;42:ow=34;42:st=37;44:ex=01;32:*.tar=01;31:*.tgz=01;31:*.arc=01;31:*.arj=01;31:*.taz=01;31:*.lha=01;31:*.lz4=01;31:*.lzh=01;31:*.lzma=01;31:*.tlz=01;31:*.txz=01;31:*.tzo=01;31:*.t7z=01;31:*.zip=01;31:*.z=01;31:*.Z=01;31:*.dz=01;31:*.gz=01;31:*.lrz=01;31:*.lz=01;31:*.lzo=01;31:*.xz=01;31:*.zst=01;31:*.tzst=01;31:*.bz2=01;31:*.bz=01;31:*.tbz=01;31:*.tbz2=01;31:*.tz=01;31:*.deb=01;31:*.rpm=01;31:*.jar=01;31:*.war=01;31:*.ear=01;31:*.sar=01;31:*.rar=01;31:*.alz=01;31:*.ace=01;31:*.zoo=01;31:*.cpio=01;31:*.7z=01;31:*.rz=01;31:*.cab=01;31:*.wim=01;31:*.swm=01;31:*.dwm=01;31:*.esd=01;31:*.jpg=01;35:*.jpeg=01;35:*.mjpg=01;35:*.mjpeg=01;35:*.gif=01;35:*.bmp=01;35:*.pbm=01;35:*.pgm=01;35:*.ppm=01;35:*.tga=01;35:*.xbm=01;35:*.xpm=01;35:*.tif=01;35:*.tiff=01;35:*.png=01;35:*.svg=01;35:*.svgz=01;35:*.mng=01;35:*.pcx=01;35:*.mov=01;35:*.mpg=01;35:*.mpeg=01;35:*.m2v=01;35:*.mkv=01;35:*.webm=01;35:*.ogm=01;35:*.mp4=01;35:*.m4v=01;35:*.mp4v=01;35:*.vob=01;35:*.qt=01;35:*.nuv=01;35:*.wmv=01;35:*.asf=01;35:*.rm=01;35:*.rmvb=01;35:*.flc=01;35:*.avi=01;35:*.fli=01;35:*.flv=01;35:*.gl=01;35:*.dl=01;35:*.xcf=01;35:*.xwd=01;35:*.yuv=01;35:*.cgm=01;35:*.emf=01;35:*.ogv=01;35:*.ogx=01;35:*.aac=00;36:*.au=00;36:*.flac=00;36:*.m4a=00;36:*.mid=00;36:*.midi=00;36:*.mka=00;36:*.mp3=00;36:*.mpc=00;36:*.ogg=00;36:*.ra=00;36:*.wav=00;36:*.oga=00;36:*.opus=00;36:*.spx=00;36:*.xspf=00;36:', 'LESSCLOSE': '/usr/bin/lesspipe %s %s', 'SSH_AUTH_SOCK': '/tmp/ssh-t3B5WUVl2XwY/agent.34', 'S_COLORS': 'auto', 'SSH_AGENT_PID': '36', 'XDG_DATA_DIRS': '/usr/local/share:/usr/share:/var/lib/snapd/desktop', 'LESSOPEN': '| /usr/bin/lesspipe %s', 'AMD_ENTRYPOINT': 'vs/server/remoteExtensionHostProcess', 'PIPE_LOGGING': 'true', 'VERBOSE_LOGGING': 'true', 'VSCODE_EXTHOST_WILL_SEND_SOCKET': 'true', 'VSCODE_HANDLES_UNCAUGHT_ERRORS': 'true', 'VSCODE_LOG_STACK': 'false', 'VSCODE_NLS_CONFIG': '{\"locale\":\"en\",\"availableLanguages\":{}}', 'VSCODE_IPC_HOOK_CLI': '/tmp/vscode-ipc-d91b8534-af5f-4056-a588-4b9e4884fb42.sock', 'APPLICATION_INSIGHTS_NO_DIAGNOSTIC_CHANNEL': 'true', 'PYTHONPATH': '/home/prp1277/.vscode-server/extensions/ms-python.python-2020.2.64397/pythonFiles:/home/prp1277/.vscode-server/extensions/ms-python.python-2020.2.64397/pythonFiles/lib/python', 'PYTHONUNBUFFERED': '1', 'PYTHONWARNINGS': 'ignore', 'PYTHONIOENCODING': 'utf-8', 'KERNEL_LAUNCH_TIMEOUT': '40', 'JPY_PARENT_PID': '1598', 'CLICOLOR': '1', 'PAGER': 'cat', 'GIT_PAGER': 'cat', 'MPLBACKEND': 'module://ipykernel.pylab.backend_inline', 'KMP_DUPLICATE_LIB_OK': 'True', 'KMP_INIT_AT_FORK': 'FALSE'})\n"
    }
   ],
   "source": [
    "import os\n",
    "print(os.environ)"
   ]
  },
  {
   "cell_type": "code",
   "execution_count": 4,
   "metadata": {},
   "outputs": [
    {
     "name": "stdout",
     "output_type": "stream",
     "text": "USER=prp1277\nVSCODE_WSL_EXT_LOCATION=/mnt/c/Users/prp12.000/.vscode/extensions/ms-vscode-remote.remote-wsl-0.42.3\nSHLVL=2\nHOME=/home/prp1277\nWSL_DISTRO_NAME=Ubuntu\nLOGNAME=prp1277\nNAME=PatricksThinkPad\n_=/home/prp1277/.vscode-server/bin/c47d83b293181d9be64f27ff093689e8e7aed054/node\nTERM=xterm-color\nPATH=/home/prp1277/.vscode-server/bin/c47d83b293181d9be64f27ff093689e8e7aed054/bin:/home/prp1277/.local/bin:/usr/local/sbin:/usr/local/bin:/usr/sbin:/usr/bin:/sbin:/bin:/usr/games:/usr/local/games:/mnt/c/Program Files/Microsoft MPI/Bin/:/mnt/c/Python37/Scripts/:/mnt/c/Python37/:/mnt/c/WINDOWS/system32:/mnt/c/WINDOWS:/mnt/c/WINDOWS/System32/Wbem:/mnt/c/WINDOWS/System32/WindowsPowerShell/v1.0/:/mnt/c/Program Files/dotnet/:/mnt/c/WINDOWS/System32/OpenSSH/:/mnt/c/ProgramData/chocolatey/bin:/mnt/c/Program Files (x86)/Yarn/bin/:/mnt/c/Program Files/Microsoft SQL Server/Client SDK/ODBC/130/Tools/Binn/:/mnt/c/Program Files/Git/cmd:/mnt/c/Program Files/Microsoft SQL Server/Client SDK/ODBC/170/Tools/Binn/:/mnt/c/Program Files (x86)/Microsoft SQL Server/150/Tools/Binn/:/mnt/c/Program Files/Microsoft SQL Server/150/Tools/Binn/:/mnt/c/Program Files/Microsoft SQL Server/150/DTS/Binn/:/mnt/c/Program Files (x86)/Intel/Intel(R) Management Engine Components/DAL:/mnt/c/Program Files/Intel/Intel(R) Management Engine Components/DAL:/mnt/c/Program Files/Intel/WiFi/bin/:/mnt/c/Program Files/Common Files/Intel/WirelessCommon/:/mnt/c/Program Files/nodejs/:/mnt/c/Program Files/PowerShell/6/:/mnt/c/Program Files/Docker/Docker/resources/bin:/mnt/c/ProgramData/DockerDesktop/version-bin:/mnt/c/Users/prp12.000/AppData/Local/Programs/Python/Python37-32/Scripts/:/mnt/c/Users/prp12.000/AppData/Local/Programs/Python/Python37-32/:/mnt/c/Program Files/MySQL/MySQL Shell 8.0/bin/:/mnt/c/Users/prp12.000/AppData/Local/Programs/Microsoft VS Code/bin:/mnt/c/Users/prp12.000/AppData/Roaming/Python36/Scripts:/mnt/c/Users/prp12.000/AppData/Local/Microsoft/WindowsApps:/mnt/c/Users/prp12.000/AppData/Roaming/npm:/mnt/c/Users/prp12.000/.dotnet/tools:/mnt/c/Program Files/heroku/bin:/mnt/c/Users/prp12.000/AppData/Local/Microsoft/WindowsApps:/snap/bin\nVSCODE_AGENT_FOLDER=/home/prp1277/.vscode-server\nLANG=C.UTF-8\nSHELL=/bin/bash\nPWD=/mnt/c/Users/prp12.000/.vscode/extensions/ms-vscode-remote.remote-wsl-0.42.3\nHOSTTYPE=x86_64\nWSLENV=VSCODE_WSL_EXT_LOCATION/up\nVSCODE_INJECT_NODE_MODULE_LOOKUP_PATH=/home/prp1277/.vscode-server/bin/c47d83b293181d9be64f27ff093689e8e7aed054/remote/node_modules\nVSCODE_LOGS=/home/prp1277/.vscode-server/data/logs/20200226T164115\nLS_COLORS=rs=0:di=01;34:ln=01;36:mh=00:pi=40;33:so=01;35:do=01;35:bd=40;33;01:cd=40;33;01:or=40;31;01:mi=00:su=37;41:sg=30;43:ca=30;41:tw=30;42:ow=34;42:st=37;44:ex=01;32:*.tar=01;31:*.tgz=01;31:*.arc=01;31:*.arj=01;31:*.taz=01;31:*.lha=01;31:*.lz4=01;31:*.lzh=01;31:*.lzma=01;31:*.tlz=01;31:*.txz=01;31:*.tzo=01;31:*.t7z=01;31:*.zip=01;31:*.z=01;31:*.Z=01;31:*.dz=01;31:*.gz=01;31:*.lrz=01;31:*.lz=01;31:*.lzo=01;31:*.xz=01;31:*.zst=01;31:*.tzst=01;31:*.bz2=01;31:*.bz=01;31:*.tbz=01;31:*.tbz2=01;31:*.tz=01;31:*.deb=01;31:*.rpm=01;31:*.jar=01;31:*.war=01;31:*.ear=01;31:*.sar=01;31:*.rar=01;31:*.alz=01;31:*.ace=01;31:*.zoo=01;31:*.cpio=01;31:*.7z=01;31:*.rz=01;31:*.cab=01;31:*.wim=01;31:*.swm=01;31:*.dwm=01;31:*.esd=01;31:*.jpg=01;35:*.jpeg=01;35:*.mjpg=01;35:*.mjpeg=01;35:*.gif=01;35:*.bmp=01;35:*.pbm=01;35:*.pgm=01;35:*.ppm=01;35:*.tga=01;35:*.xbm=01;35:*.xpm=01;35:*.tif=01;35:*.tiff=01;35:*.png=01;35:*.svg=01;35:*.svgz=01;35:*.mng=01;35:*.pcx=01;35:*.mov=01;35:*.mpg=01;35:*.mpeg=01;35:*.m2v=01;35:*.mkv=01;35:*.webm=01;35:*.ogm=01;35:*.mp4=01;35:*.m4v=01;35:*.mp4v=01;35:*.vob=01;35:*.qt=01;35:*.nuv=01;35:*.wmv=01;35:*.asf=01;35:*.rm=01;35:*.rmvb=01;35:*.flc=01;35:*.avi=01;35:*.fli=01;35:*.flv=01;35:*.gl=01;35:*.dl=01;35:*.xcf=01;35:*.xwd=01;35:*.yuv=01;35:*.cgm=01;35:*.emf=01;35:*.ogv=01;35:*.ogx=01;35:*.aac=00;36:*.au=00;36:*.flac=00;36:*.m4a=00;36:*.mid=00;36:*.midi=00;36:*.mka=00;36:*.mp3=00;36:*.mpc=00;36:*.ogg=00;36:*.ra=00;36:*.wav=00;36:*.oga=00;36:*.opus=00;36:*.spx=00;36:*.xspf=00;36:\nLESSCLOSE=/usr/bin/lesspipe %s %s\nSSH_AUTH_SOCK=/tmp/ssh-t3B5WUVl2XwY/agent.34\nS_COLORS=auto\nSSH_AGENT_PID=36\nXDG_DATA_DIRS=/usr/local/share:/usr/share:/var/lib/snapd/desktop\nLESSOPEN=| /usr/bin/lesspipe %s\nAMD_ENTRYPOINT=vs/server/remoteExtensionHostProcess\nPIPE_LOGGING=true\nVERBOSE_LOGGING=true\nVSCODE_EXTHOST_WILL_SEND_SOCKET=true\nVSCODE_HANDLES_UNCAUGHT_ERRORS=true\nVSCODE_LOG_STACK=false\nVSCODE_NLS_CONFIG={\"locale\":\"en\",\"availableLanguages\":{}}\nVSCODE_IPC_HOOK_CLI=/tmp/vscode-ipc-d91b8534-af5f-4056-a588-4b9e4884fb42.sock\nAPPLICATION_INSIGHTS_NO_DIAGNOSTIC_CHANNEL=true\nPYTHONPATH=/home/prp1277/.vscode-server/extensions/ms-python.python-2020.2.64397/pythonFiles:/home/prp1277/.vscode-server/extensions/ms-python.python-2020.2.64397/pythonFiles/lib/python\nPYTHONUNBUFFERED=1\nPYTHONWARNINGS=ignore\nPYTHONIOENCODING=utf-8\nKERNEL_LAUNCH_TIMEOUT=40\nJPY_PARENT_PID=1598\nCLICOLOR=1\nPAGER=cat\nGIT_PAGER=cat\nMPLBACKEND=module://ipykernel.pylab.backend_inline\nKMP_DUPLICATE_LIB_OK=True\nKMP_INIT_AT_FORK=FALSE\n"
    }
   ],
   "source": [
    "import os\n",
    "\n",
    "for k, v in os.environ.items():\n",
    "    print(f'{k}={v}')"
   ]
  },
  {
   "cell_type": "code",
   "execution_count": 5,
   "metadata": {},
   "outputs": [
    {
     "data": {
      "text/plain": "['/home/prp1277/.vscode-server/extensions/ms-python.python-2020.2.64397/pythonFiles',\n '/home/prp1277/.vscode-server/extensions/ms-python.python-2020.2.64397/pythonFiles/lib/python',\n '/usr/lib/python36.zip',\n '/usr/lib/python3.6',\n '/usr/lib/python3.6/lib-dynload',\n '',\n '/home/prp1277/.local/lib/python3.6/site-packages',\n '/usr/local/lib/python3.6/dist-packages',\n '/usr/local/lib/python3.6/dist-packages/pandas_datareader-0.8.1-py3.6.egg',\n '/usr/lib/python3/dist-packages',\n '/home/prp1277/.local/lib/python3.6/site-packages/IPython/extensions',\n '/home/prp1277/.ipython']"
     },
     "execution_count": 5,
     "metadata": {},
     "output_type": "execute_result"
    }
   ],
   "source": [
    "import sys\n",
    "sys.path"
   ]
  },
  {
   "cell_type": "code",
   "execution_count": 2,
   "metadata": {},
   "outputs": [
    {
     "name": "stdout",
     "output_type": "stream",
     "text": "{'documents': [{'id': '1',\n                'keyPhrases': ['wonderful experience', 'staff', 'rooms']},\n               {'id': '2',\n                'keyPhrases': ['food', 'terrible time', 'hotel', 'staff']}],\n 'errors': []}\n"
    }
   ],
   "source": [
    "import requests\n",
    "from pprint import pprint\n",
    "\n",
    "endpoint = 'https://prp1277textanalysis.cognitiveservices.azure.com'\n",
    "key_phrase = endpoint + '/text/analytics/v2.1/keyPhrases'\n",
    "\n",
    "documents = {\"documents\": [\n",
    "    {\"id\": \"1\", \"language\": \"en\",\n",
    "        \"text\": \"I had a wonderful experience! The rooms were wonderful and the staff was helpful.\"},\n",
    "    {\"id\": \"2\", \"language\": \"en\",\n",
    "        \"text\": \"I had a terrible time at the hotel. The staff was rude and the food was awful.\"}]}\n",
    "    \n",
    "\n",
    "headers = {\"Ocp-Apim-Subscription-Key\":'c6f21242fcdb451f812bafa8434a8172'}\n",
    "response = requests.post(key_phrase, headers=headers, data=documents)\n",
    "\n",
    "key_phrases = response.json()\n",
    "pprint(key_phrases)"
   ]
  },
  {
   "cell_type": "code",
   "execution_count": null,
   "metadata": {},
   "outputs": [],
   "source": []
  }
 ]
}