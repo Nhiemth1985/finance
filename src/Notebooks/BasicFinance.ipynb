{
 "nbformat": 4,
 "nbformat_minor": 2,
 "metadata": {
  "language_info": {
   "name": "python",
   "codemirror_mode": {
    "name": "ipython",
    "version": 3
   },
   "version": "3.6.9-final"
  },
  "orig_nbformat": 2,
  "file_extension": ".py",
  "mimetype": "text/x-python",
  "name": "python",
  "npconvert_exporter": "python",
  "pygments_lexer": "ipython3",
  "version": 3,
  "kernelspec": {
   "name": "python36964bit06003a3f35d841289bcbc3504d53ff09",
   "display_name": "Python 3.6.9 64-bit"
  }
 },
 "cells": [
  {
   "cell_type": "markdown",
   "execution_count": null,
   "metadata": {},
   "outputs": [],
   "source": [
    "# Basic Finance\n",
    "\n",
    "## Make an API Request to Get Some Data\n",
    "\n",
    "### Import your libraries"
   ]
  },
  {
   "cell_type": "code",
   "execution_count": null,
   "metadata": {},
   "outputs": [],
   "source": [
    "import requests\n",
    "import pandas as pd\n",
    "import numpy as np"
   ]
  },
  {
   "cell_type": "markdown",
   "metadata": {},
   "source": [
    "## Getting Started\n",
    "\n",
    "### Set your parameters"
   ]
  },
  {
   "cell_type": "code",
   "execution_count": 2,
   "metadata": {},
   "outputs": [],
   "source": [
    "AV_KEY='7FSGISSCM7BRW0N9'\n",
    "BASE_URL='https://www.alphavantage.co/'\n",
    "SYMBOL='MSFT'"
   ]
  },
  {
   "cell_type": "markdown",
   "metadata": {},
   "source": [
    "### Get Global Quote\n",
    "\n",
    "Use the AlphaVantage API to get the global quote of a specified symbol using your API key."
   ]
  },
  {
   "cell_type": "code",
   "execution_count": 12,
   "metadata": {},
   "outputs": [],
   "source": [
    "GGQ = (BASE_URL + 'query?function=GLOBAL_QUOTE&symbol='+ SYMBOL +'&apikey=7FSGISSCM7BRW0N9')\n",
    "tformJSON = requests.get(GGQ).json()\n",
    "GGQ_DF = pd.DataFrame(tformJSON)"
   ]
  },
  {
   "cell_type": "code",
   "execution_count": 13,
   "metadata": {},
   "outputs": [
    {
     "data": {
      "text/html": "<div>\n<style scoped>\n    .dataframe tbody tr th:only-of-type {\n        vertical-align: middle;\n    }\n\n    .dataframe tbody tr th {\n        vertical-align: top;\n    }\n\n    .dataframe thead th {\n        text-align: right;\n    }\n</style>\n<table border=\"1\" class=\"dataframe\">\n  <thead>\n    <tr style=\"text-align: right;\">\n      <th></th>\n      <th>Global Quote</th>\n    </tr>\n  </thead>\n  <tbody>\n    <tr>\n      <th>01. symbol</th>\n      <td>MSFT</td>\n    </tr>\n    <tr>\n      <th>02. open</th>\n      <td>185.6050</td>\n    </tr>\n    <tr>\n      <th>03. high</th>\n      <td>187.7000</td>\n    </tr>\n    <tr>\n      <th>04. low</th>\n      <td>185.5000</td>\n    </tr>\n    <tr>\n      <th>05. price</th>\n      <td>187.2300</td>\n    </tr>\n    <tr>\n      <th>06. volume</th>\n      <td>27157849</td>\n    </tr>\n    <tr>\n      <th>07. latest trading day</th>\n      <td>2020-02-18</td>\n    </tr>\n    <tr>\n      <th>08. previous close</th>\n      <td>185.3500</td>\n    </tr>\n    <tr>\n      <th>09. change</th>\n      <td>1.8800</td>\n    </tr>\n    <tr>\n      <th>10. change percent</th>\n      <td>1.0143%</td>\n    </tr>\n  </tbody>\n</table>\n</div>",
      "text/plain": "                       Global Quote\n01. symbol                     MSFT\n02. open                   185.6050\n03. high                   187.7000\n04. low                    185.5000\n05. price                  187.2300\n06. volume                 27157849\n07. latest trading day   2020-02-18\n08. previous close         185.3500\n09. change                   1.8800\n10. change percent          1.0143%"
     },
     "execution_count": 13,
     "metadata": {},
     "output_type": "execute_result"
    }
   ],
   "source": [
    "GGQ_DF"
   ]
  }
 ]
}